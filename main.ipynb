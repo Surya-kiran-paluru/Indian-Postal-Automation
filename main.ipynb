{
 "cells": [
  {
   "cell_type": "code",
   "execution_count": 2,
   "metadata": {},
   "outputs": [],
   "source": [
    "import keras_ocr\n",
    "def detect_w_keras(image_path):\n",
    "    \"\"\"Function returns detected text from image\"\"\"\n",
    "   \n",
    "    # Initialize pipeline\n",
    "    pipeline = keras_ocr.pipeline.Pipeline()\n",
    "    # Read in image path\n",
    "    read_image = keras_ocr.tools.read(image_path)\n",
    "    # prediction_groups is a list of (word, box) tuples\n",
    "    prediction_groups = pipeline.recognize([read_image])\n",
    "    return prediction_groups"
   ]
  },
  {
   "cell_type": "code",
   "execution_count": 3,
   "metadata": {},
   "outputs": [],
   "source": [
    "import math\n",
    "def get_distance(predictions):\n",
    "    \"\"\"\n",
    "    Function returns dictionary with (key,value):\n",
    "        * text : detected text in image\n",
    "        * center_x : center of bounding box (x)\n",
    "        * center_y : center of bounding box (y)\n",
    "        * distance_from_origin : hypotenuse\n",
    "        * distance_y : distance between y and origin (0,0)\n",
    "    \"\"\"\n",
    "    \n",
    "    # Point of origin\n",
    "    x0, y0 = 0, 0\n",
    "    # Generate dictionary\n",
    "    detections = []\n",
    "    for group in predictions:\n",
    "        # Get center point of bounding box\n",
    "        top_left_x, top_left_y = group[1][0]\n",
    "        bottom_right_x, bottom_right_y = group[1][1]\n",
    "        center_x = (top_left_x + bottom_right_x) / 2\n",
    "        center_y = (top_left_y + bottom_right_y) / 2\n",
    "    # Use the Pythagorean Theorem to solve for distance from origin\n",
    "    distance_from_origin = math.dist([x0,y0], [center_x, center_y])\n",
    "    # Calculate difference between y and origin to get unique rows\n",
    "    distance_y = center_y - y0\n",
    "    # Append all results\n",
    "    detections.append({\n",
    "                        'text':group[0],\n",
    "                        'center_x':center_x,\n",
    "                        'center_y':center_y,\n",
    "                        'distance_from_origin':distance_from_origin,\n",
    "                        'distance_y':distance_y\n",
    "                    })\n",
    "    return detections"
   ]
  },
  {
   "cell_type": "code",
   "execution_count": 4,
   "metadata": {},
   "outputs": [],
   "source": [
    "def distinguish_rows(lst, thresh=15):\n",
    "    \"\"\"Function to help distinguish unique rows\"\"\"\n",
    "    \n",
    "    sublists = [] \n",
    "    for i in range(0, len(lst)-1):\n",
    "        if lst[i+1]['distance_y'] - lst[i]['distance_y'] <= thresh:\n",
    "            if lst[i] not in sublists:\n",
    "                sublists.append(lst[i])\n",
    "            sublists.append(lst[i+1])\n",
    "        else:\n",
    "            yield sublists\n",
    "            sublists = [lst[i+1]]\n",
    "    yield sublists"
   ]
  },
  {
   "cell_type": "code",
   "execution_count": 5,
   "metadata": {},
   "outputs": [],
   "source": [
    "def main(image_path, thresh = 15, order='yes'):\n",
    "    \"\"\"\n",
    "    Function returns predictions in human readable order \n",
    "    from left to right & top to bottom\n",
    "    \"\"\"\n",
    "    \n",
    "    predictions = detect_w_keras(image_path)\n",
    "    #print(predictions)\n",
    "    predictions = get_distance(predictions)\n",
    "    #print(predictions)\n",
    "    predictions = list(distinguish_rows(predictions, thresh))\n",
    "    #print(predictions)\n",
    "    # Remove all empty rows\n",
    "    predictions = list(filter(lambda x:x!=[], predictions))\n",
    "    #print(predictions)\n",
    "    # Order text detections in human readable format\n",
    "    ordered_preds = []\n",
    "    ylst = ['yes', 'y']\n",
    "    for pr in predictions:\n",
    "        if order in ylst: \n",
    "            row = sorted(pr, key=lambda x:x['distance_from_origin'])\n",
    "            for each in row: \n",
    "                ordered_preds.append(each['text'])\n",
    "    return ordered_preds"
   ]
  },
  {
   "cell_type": "code",
   "execution_count": 6,
   "metadata": {},
   "outputs": [
    {
     "name": "stdout",
     "output_type": "stream",
     "text": [
      "Looking for C:\\Users\\pskir\\.keras-ocr\\craft_mlt_25k.h5\n",
      "Looking for C:\\Users\\pskir\\.keras-ocr\\crnn_kurapan.h5\n",
      "1/1 [==============================] - 39s 39s/step\n",
      "1/1 [==============================] - 13s 13s/step\n"
     ]
    },
    {
     "ename": "ValueError",
     "evalue": "too many values to unpack (expected 2)",
     "output_type": "error",
     "traceback": [
      "\u001b[1;31m---------------------------------------------------------------------------\u001b[0m",
      "\u001b[1;31mValueError\u001b[0m                                Traceback (most recent call last)",
      "\u001b[1;32m<ipython-input-6-c1fda479941f>\u001b[0m in \u001b[0;36m<module>\u001b[1;34m\u001b[0m\n\u001b[1;32m----> 1\u001b[1;33m \u001b[0mmain\u001b[0m\u001b[1;33m(\u001b[0m\u001b[1;34mr'test.jpg'\u001b[0m\u001b[1;33m)\u001b[0m\u001b[1;33m\u001b[0m\u001b[1;33m\u001b[0m\u001b[0m\n\u001b[0m",
      "\u001b[1;32m<ipython-input-5-10054eb14cc1>\u001b[0m in \u001b[0;36mmain\u001b[1;34m(image_path, thresh, order)\u001b[0m\n\u001b[0;32m      7\u001b[0m     \u001b[0mpredictions\u001b[0m \u001b[1;33m=\u001b[0m \u001b[0mdetect_w_keras\u001b[0m\u001b[1;33m(\u001b[0m\u001b[0mimage_path\u001b[0m\u001b[1;33m)\u001b[0m\u001b[1;33m\u001b[0m\u001b[1;33m\u001b[0m\u001b[0m\n\u001b[0;32m      8\u001b[0m     \u001b[1;31m#print(predictions)\u001b[0m\u001b[1;33m\u001b[0m\u001b[1;33m\u001b[0m\u001b[1;33m\u001b[0m\u001b[0m\n\u001b[1;32m----> 9\u001b[1;33m     \u001b[0mpredictions\u001b[0m \u001b[1;33m=\u001b[0m \u001b[0mget_distance\u001b[0m\u001b[1;33m(\u001b[0m\u001b[0mpredictions\u001b[0m\u001b[1;33m)\u001b[0m\u001b[1;33m\u001b[0m\u001b[1;33m\u001b[0m\u001b[0m\n\u001b[0m\u001b[0;32m     10\u001b[0m     \u001b[1;31m#print(predictions)\u001b[0m\u001b[1;33m\u001b[0m\u001b[1;33m\u001b[0m\u001b[1;33m\u001b[0m\u001b[0m\n\u001b[0;32m     11\u001b[0m     \u001b[0mpredictions\u001b[0m \u001b[1;33m=\u001b[0m \u001b[0mlist\u001b[0m\u001b[1;33m(\u001b[0m\u001b[0mdistinguish_rows\u001b[0m\u001b[1;33m(\u001b[0m\u001b[0mpredictions\u001b[0m\u001b[1;33m,\u001b[0m \u001b[0mthresh\u001b[0m\u001b[1;33m)\u001b[0m\u001b[1;33m)\u001b[0m\u001b[1;33m\u001b[0m\u001b[1;33m\u001b[0m\u001b[0m\n",
      "\u001b[1;32m<ipython-input-3-b906846fc30e>\u001b[0m in \u001b[0;36mget_distance\u001b[1;34m(predictions)\u001b[0m\n\u001b[0;32m     17\u001b[0m         \u001b[1;31m# Get center point of bounding box\u001b[0m\u001b[1;33m\u001b[0m\u001b[1;33m\u001b[0m\u001b[1;33m\u001b[0m\u001b[0m\n\u001b[0;32m     18\u001b[0m         \u001b[0mtop_left_x\u001b[0m\u001b[1;33m,\u001b[0m \u001b[0mtop_left_y\u001b[0m \u001b[1;33m=\u001b[0m \u001b[0mgroup\u001b[0m\u001b[1;33m[\u001b[0m\u001b[1;36m1\u001b[0m\u001b[1;33m]\u001b[0m\u001b[1;33m[\u001b[0m\u001b[1;36m0\u001b[0m\u001b[1;33m]\u001b[0m\u001b[1;33m\u001b[0m\u001b[1;33m\u001b[0m\u001b[0m\n\u001b[1;32m---> 19\u001b[1;33m         \u001b[0mbottom_right_x\u001b[0m\u001b[1;33m,\u001b[0m \u001b[0mbottom_right_y\u001b[0m \u001b[1;33m=\u001b[0m \u001b[0mgroup\u001b[0m\u001b[1;33m[\u001b[0m\u001b[1;36m1\u001b[0m\u001b[1;33m]\u001b[0m\u001b[1;33m[\u001b[0m\u001b[1;36m1\u001b[0m\u001b[1;33m]\u001b[0m\u001b[1;33m\u001b[0m\u001b[1;33m\u001b[0m\u001b[0m\n\u001b[0m\u001b[0;32m     20\u001b[0m         \u001b[0mcenter_x\u001b[0m \u001b[1;33m=\u001b[0m \u001b[1;33m(\u001b[0m\u001b[0mtop_left_x\u001b[0m \u001b[1;33m+\u001b[0m \u001b[0mbottom_right_x\u001b[0m\u001b[1;33m)\u001b[0m \u001b[1;33m/\u001b[0m \u001b[1;36m2\u001b[0m\u001b[1;33m\u001b[0m\u001b[1;33m\u001b[0m\u001b[0m\n\u001b[0;32m     21\u001b[0m         \u001b[0mcenter_y\u001b[0m \u001b[1;33m=\u001b[0m \u001b[1;33m(\u001b[0m\u001b[0mtop_left_y\u001b[0m \u001b[1;33m+\u001b[0m \u001b[0mbottom_right_y\u001b[0m\u001b[1;33m)\u001b[0m \u001b[1;33m/\u001b[0m \u001b[1;36m2\u001b[0m\u001b[1;33m\u001b[0m\u001b[1;33m\u001b[0m\u001b[0m\n",
      "\u001b[1;31mValueError\u001b[0m: too many values to unpack (expected 2)"
     ]
    }
   ],
   "source": [
    "main(r'test.jpg')"
   ]
  },
  {
   "cell_type": "code",
   "execution_count": 7,
   "metadata": {},
   "outputs": [
    {
     "name": "stdout",
     "output_type": "stream",
     "text": [
      "Looking for C:\\Users\\pskir\\.keras-ocr\\craft_mlt_25k.h5\n",
      "Looking for C:\\Users\\pskir\\.keras-ocr\\crnn_kurapan.h5\n",
      "1/1 [==============================] - 17s 17s/step\n",
      "1/1 [==============================] - 3s 3s/step\n"
     ]
    }
   ],
   "source": [
    "pred = detect_w_keras(r\"test.jpg\")"
   ]
  },
  {
   "cell_type": "code",
   "execution_count": 28,
   "metadata": {},
   "outputs": [
    {
     "name": "stdout",
     "output_type": "stream",
     "text": [
      "[('third', array([[635.7658 , 174.12341],\n",
      "       [791.11804, 186.48099],\n",
      "       [787.3993 , 233.23062],\n",
      "       [632.04706, 220.87308]], dtype=float32)), ('2c', array([[148.06369, 179.21655],\n",
      "       [212.31209, 181.51114],\n",
      "       [210.86624, 221.99522],\n",
      "       [146.61786, 219.70064]], dtype=float32)), ('street', array([[ 875.8906 ,  178.18573],\n",
      "       [1089.1323 ,  192.72491],\n",
      "       [1085.4788 ,  246.31104],\n",
      "       [ 872.23706,  231.77185]], dtype=float32)), ('2', array([[300.  , 181.25],\n",
      "       [352.5 , 181.25],\n",
      "       [352.5 , 221.25],\n",
      "       [300.  , 221.25]], dtype=float32)), ('221', array([[421.25, 181.25],\n",
      "       [523.75, 181.25],\n",
      "       [523.75, 223.75],\n",
      "       [421.25, 223.75]], dtype=float32)), ('ts', array([[243.75, 188.75],\n",
      "       [307.5 , 188.75],\n",
      "       [307.5 , 220.  ],\n",
      "       [243.75, 220.  ]], dtype=float32)), ('s', array([[356.25, 196.25],\n",
      "       [381.25, 196.25],\n",
      "       [381.25, 215.  ],\n",
      "       [356.25, 215.  ]], dtype=float32)), ('chandra', array([[138.07173, 315.17154],\n",
      "       [375.99152, 310.18024],\n",
      "       [376.97717, 357.16132],\n",
      "       [139.05734, 362.15265]], dtype=float32)), ('mooe', array([[389.77325, 304.65158],\n",
      "       [549.3971 , 315.29315],\n",
      "       [546.68146, 356.0288 ],\n",
      "       [387.05756, 345.38724]], dtype=float32)), ('nagar', array([[658.11066, 314.77933],\n",
      "       [856.4137 , 324.2979 ],\n",
      "       [854.06036, 373.3249 ],\n",
      "       [655.7573 , 363.80634]], dtype=float32)), ('vedalapalems', array([[153.03734, 419.96613],\n",
      "       [535.74097, 438.19006],\n",
      "       [533.35693, 488.25516],\n",
      "       [150.6533 , 470.0312 ]], dtype=float32)), ('n', array([[595.  , 443.75],\n",
      "       [643.75, 443.75],\n",
      "       [643.75, 491.25],\n",
      "       [595.  , 491.25]], dtype=float32)), ('elore', array([[655.35706, 452.86008],\n",
      "       [848.3873 , 459.18896],\n",
      "       [847.03015, 500.5789 ],\n",
      "       [653.99994, 494.25   ]], dtype=float32)), ('s21', array([[165.28589, 544.4558 ],\n",
      "       [274.41724, 546.6384 ],\n",
      "       [273.4876 , 593.1198 ],\n",
      "       [164.35625, 590.9372 ]], dtype=float32)), ('oot', array([[280.29263, 555.4898 ],\n",
      "       [400.98605, 559.2034 ],\n",
      "       [399.54776, 605.94763],\n",
      "       [278.85434, 602.234  ]], dtype=float32))]\n"
     ]
    }
   ],
   "source": [
    "pred = pred[0]\n",
    "print(pred)\n"
   ]
  },
  {
   "cell_type": "code",
   "execution_count": 29,
   "metadata": {},
   "outputs": [],
   "source": [
    "import numpy as np\n",
    "\n",
    "box_group = np.array([x[1] for x in pred])"
   ]
  },
  {
   "cell_type": "code",
   "execution_count": 30,
   "metadata": {},
   "outputs": [
    {
     "data": {
      "text/plain": [
       "array([[[ 635.7658 ,  174.12341],\n",
       "        [ 791.11804,  186.48099],\n",
       "        [ 787.3993 ,  233.23062],\n",
       "        [ 632.04706,  220.87308]],\n",
       "\n",
       "       [[ 148.06369,  179.21655],\n",
       "        [ 212.31209,  181.51114],\n",
       "        [ 210.86624,  221.99522],\n",
       "        [ 146.61786,  219.70064]],\n",
       "\n",
       "       [[ 875.8906 ,  178.18573],\n",
       "        [1089.1323 ,  192.72491],\n",
       "        [1085.4788 ,  246.31104],\n",
       "        [ 872.23706,  231.77185]],\n",
       "\n",
       "       [[ 300.     ,  181.25   ],\n",
       "        [ 352.5    ,  181.25   ],\n",
       "        [ 352.5    ,  221.25   ],\n",
       "        [ 300.     ,  221.25   ]],\n",
       "\n",
       "       [[ 421.25   ,  181.25   ],\n",
       "        [ 523.75   ,  181.25   ],\n",
       "        [ 523.75   ,  223.75   ],\n",
       "        [ 421.25   ,  223.75   ]],\n",
       "\n",
       "       [[ 243.75   ,  188.75   ],\n",
       "        [ 307.5    ,  188.75   ],\n",
       "        [ 307.5    ,  220.     ],\n",
       "        [ 243.75   ,  220.     ]],\n",
       "\n",
       "       [[ 356.25   ,  196.25   ],\n",
       "        [ 381.25   ,  196.25   ],\n",
       "        [ 381.25   ,  215.     ],\n",
       "        [ 356.25   ,  215.     ]],\n",
       "\n",
       "       [[ 138.07173,  315.17154],\n",
       "        [ 375.99152,  310.18024],\n",
       "        [ 376.97717,  357.16132],\n",
       "        [ 139.05734,  362.15265]],\n",
       "\n",
       "       [[ 389.77325,  304.65158],\n",
       "        [ 549.3971 ,  315.29315],\n",
       "        [ 546.68146,  356.0288 ],\n",
       "        [ 387.05756,  345.38724]],\n",
       "\n",
       "       [[ 658.11066,  314.77933],\n",
       "        [ 856.4137 ,  324.2979 ],\n",
       "        [ 854.06036,  373.3249 ],\n",
       "        [ 655.7573 ,  363.80634]],\n",
       "\n",
       "       [[ 153.03734,  419.96613],\n",
       "        [ 535.74097,  438.19006],\n",
       "        [ 533.35693,  488.25516],\n",
       "        [ 150.6533 ,  470.0312 ]],\n",
       "\n",
       "       [[ 595.     ,  443.75   ],\n",
       "        [ 643.75   ,  443.75   ],\n",
       "        [ 643.75   ,  491.25   ],\n",
       "        [ 595.     ,  491.25   ]],\n",
       "\n",
       "       [[ 655.35706,  452.86008],\n",
       "        [ 848.3873 ,  459.18896],\n",
       "        [ 847.03015,  500.5789 ],\n",
       "        [ 653.99994,  494.25   ]],\n",
       "\n",
       "       [[ 165.28589,  544.4558 ],\n",
       "        [ 274.41724,  546.6384 ],\n",
       "        [ 273.4876 ,  593.1198 ],\n",
       "        [ 164.35625,  590.9372 ]],\n",
       "\n",
       "       [[ 280.29263,  555.4898 ],\n",
       "        [ 400.98605,  559.2034 ],\n",
       "        [ 399.54776,  605.94763],\n",
       "        [ 278.85434,  602.234  ]]], dtype=float32)"
      ]
     },
     "execution_count": 30,
     "metadata": {},
     "output_type": "execute_result"
    }
   ],
   "source": [
    "box_group"
   ]
  },
  {
   "cell_type": "code",
   "execution_count": 31,
   "metadata": {},
   "outputs": [],
   "source": [
    "def isOnSameLine(boxOne, boxTwo):\n",
    "    boxOneStartY = boxOne[0,1]\n",
    "    boxOneEndY = boxOne[2,1]\n",
    "    boxTwoStartY = boxTwo[0,1]\n",
    "    boxTwoEndY = boxTwo[2,1]\n",
    "    if((boxTwoStartY <= boxOneEndY and boxTwoStartY >= boxOneStartY)\n",
    "    or(boxTwoEndY <= boxOneEndY and boxTwoEndY >= boxOneStartY)\n",
    "    or(boxTwoEndY >= boxOneEndY and boxTwoStartY <= boxOneStartY)):\n",
    "        return True\n",
    "    else:\n",
    "        return False\n",
    "\n",
    "def segmentLines(box_group):\n",
    "    import numpy as np\n",
    "    # sort by highest starty value (bottom left corner of box - [startX,startY], [endX,startY], [endX,endY], [startX, endY])\n",
    "    box_group = box_group[np.argsort(box_group[:, 0, 1])]\n",
    "\n",
    "    lined_box_group = np.zeros(box_group.shape)\n",
    "    sorted_box_group = np.zeros(box_group.shape)\n",
    "\n",
    "    # list of indexes\n",
    "    temp = []\n",
    "    i = 0\n",
    "    lines_list = []\n",
    "\n",
    "    # check if there is more than one box in the box_group\n",
    "    if len(box_group) > 1:\n",
    "        while i < len(box_group):\n",
    "            for j in range(i + 1, len(box_group)):\n",
    "                if(isOnSameLine(box_group[i],box_group[j])):\n",
    "                    # print(str(i) + \" and \" + str(j) + \" on same line\")\n",
    "                    if i not in temp:\n",
    "                        temp.append(i)\n",
    "                    if j not in temp:\n",
    "                        temp.append(j)\n",
    "                # else:\n",
    "                    # print(str(i) + \" and \" + str(j) + \" not on same line\")\n",
    "            # append temp with i if the current box (i) is not on the same line with any other box\n",
    "            if len(temp) == 0:\n",
    "                temp.append(i)\n",
    "            \n",
    "            # put boxes on same line into lined_box_group array\n",
    "            lined_box_group = box_group[np.array(temp)]\n",
    "            # sort boxes by startX value\n",
    "            t = np.argsort(lined_box_group[:, 0, 0])\n",
    "            lines_list.append([x+i for x in t])\n",
    "            lined_box_group = lined_box_group[t]\n",
    "            # copy sorted boxes on same line into sorted_box_group\n",
    "            sorted_box_group[i:temp[-1]+1] = lined_box_group\n",
    "            \n",
    "            # skip to the index of the box that is not on the same line\n",
    "            #print(t) \n",
    "            i = temp[-1] + 1\n",
    "            # clear list of indexes \n",
    "            temp = []\n",
    "    else:\n",
    "        # since there is only one box in the boxgroup do nothing but copying the box\n",
    "        # print(\"only one box in boxgroup\")\n",
    "        sorted_box_group = box_group\n",
    "  \n",
    "    return sorted_box_group,lines_list"
   ]
  },
  {
   "cell_type": "code",
   "execution_count": 32,
   "metadata": {},
   "outputs": [
    {
     "name": "stdout",
     "output_type": "stream",
     "text": [
      "[[2, 5, 3, 6, 4, 0, 1], [9, 7, 8], [10, 11, 12], [13, 14]]\n"
     ]
    }
   ],
   "source": [
    "s,l = segmentLines(box_group)\n",
    "print(l)"
   ]
  },
  {
   "cell_type": "code",
   "execution_count": 33,
   "metadata": {},
   "outputs": [
    {
     "name": "stdout",
     "output_type": "stream",
     "text": [
      "[[0, 1, 2, 3, 4, 5, 6], [7, 8, 9], [10, 11, 12], [13, 14]]\n"
     ]
    }
   ],
   "source": [
    "for i in range(len(l)):\n",
    "    l[i].sort()\n",
    "\n",
    "print(l)\n"
   ]
  },
  {
   "cell_type": "code",
   "execution_count": 34,
   "metadata": {},
   "outputs": [
    {
     "name": "stdout",
     "output_type": "stream",
     "text": [
      "2c\n",
      "ts\n",
      "2\n",
      "s\n",
      "221\n",
      "third\n",
      "street\n",
      "chandra\n",
      "mooe\n",
      "nagar\n",
      "vedalapalems\n",
      "n\n",
      "elore\n",
      "s21\n",
      "oot\n"
     ]
    }
   ],
   "source": [
    "for ran in l:\n",
    "    s_sub = s[ran[0]:ran[-1]+1]\n",
    "    #print(s_sub)\n",
    "    \n",
    "    for x in s_sub:\n",
    "        \n",
    "        for text,box in pred:\n",
    "\n",
    "            # print(round(x[0][0],1),round(box[0][0],1))\n",
    "            # print(round(x[0][1],1), round(box[0][1],1))\n",
    "            # print()\n",
    "            # print( int(x[0][0]), int(x[0][1]) )\n",
    "            # print( int(box[0][0]), int(box[0][1]) )\n",
    "            # print()\n",
    "\n",
    "            if int(x[0][0]) == int(box[0][0]) and int(x[0][1]) == int(box[0][1]):\n",
    "                print(text)\n",
    "                break"
   ]
  },
  {
   "cell_type": "code",
   "execution_count": null,
   "metadata": {},
   "outputs": [],
   "source": [
    "# for ran in l:\n",
    "#     temp_pred = pred[ran[0]:ran[-1]+1]\n",
    "#     print(temp_pred)  \n",
    "# for x in s:\n",
    "#         for text,box in temp_pred:\n",
    "#             #print(round(x[0][0],1),round(box[0][0],1))\n",
    "#             #print(x[0][0],box[0][0])\n",
    "#             if str(round(box[0][0],1)) == str(round(x[0][0],1)):\n",
    "#                 print(text)\n",
    "#                 break"
   ]
  }
 ],
 "metadata": {
  "kernelspec": {
   "display_name": "base",
   "language": "python",
   "name": "python3"
  },
  "language_info": {
   "codemirror_mode": {
    "name": "ipython",
    "version": 3
   },
   "file_extension": ".py",
   "mimetype": "text/x-python",
   "name": "python",
   "nbconvert_exporter": "python",
   "pygments_lexer": "ipython3",
   "version": "3.8.5"
  },
  "orig_nbformat": 4,
  "vscode": {
   "interpreter": {
    "hash": "88279d2366fe020547cde40dd65aa0e3aa662a6ec1f3ca12d88834876c85e1a6"
   }
  }
 },
 "nbformat": 4,
 "nbformat_minor": 2
}
