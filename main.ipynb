{
 "cells": [
  {
   "cell_type": "code",
   "execution_count": 1,
   "metadata": {},
   "outputs": [
    {
     "name": "stdout",
     "output_type": "stream",
     "text": [
      "Looking for C:\\Users\\pskir\\.keras-ocr\\craft_mlt_25k.h5\n",
      "Looking for C:\\Users\\pskir\\.keras-ocr\\crnn_kurapan.h5\n"
     ]
    }
   ],
   "source": [
    "import numpy as np\n",
    "import keras_ocr\n",
    "import sys # to access the system\n",
    "import cv2\n",
    "\n",
    "pipeline = keras_ocr.pipeline.Pipeline()\n",
    "\n",
    "def detect_w_keras(pipeline,image_path):\n",
    "    \"\"\"Function returns detected text from image\"\"\"\n",
    "\n",
    "    read_image = keras_ocr.tools.read(image_path)\n",
    "\n",
    "    prediction_groups = pipeline.recognize([read_image])\n",
    "    return prediction_groups"
   ]
  },
  {
   "cell_type": "code",
   "execution_count": 27,
   "metadata": {},
   "outputs": [
    {
     "name": "stdout",
     "output_type": "stream",
     "text": [
      "1/1 [==============================] - 31s 31s/step\n",
      "1/1 [==============================] - 2s 2s/step\n"
     ]
    }
   ],
   "source": [
    "image_path = \"test.jpg\"\n",
    "pred = detect_w_keras(pipeline,image_path)"
   ]
  },
  {
   "cell_type": "code",
   "execution_count": 28,
   "metadata": {},
   "outputs": [],
   "source": [
    "pred = pred[0]"
   ]
  },
  {
   "cell_type": "code",
   "execution_count": 29,
   "metadata": {},
   "outputs": [],
   "source": [
    "box_group = np.array([x[1] for x in pred])"
   ]
  },
  {
   "cell_type": "code",
   "execution_count": 30,
   "metadata": {},
   "outputs": [
    {
     "data": {
      "text/plain": [
       "array([[[ 83.40399 , 412.11984 ],\n",
       "        [146.73364 , 410.00888 ],\n",
       "        [147.4939  , 432.81686 ],\n",
       "        [ 84.164246, 434.92783 ]],\n",
       "\n",
       "       [[499.      , 411.      ],\n",
       "        [565.      , 411.      ],\n",
       "        [565.      , 431.      ],\n",
       "        [499.      , 431.      ]],\n",
       "\n",
       "       [[154.      , 412.      ],\n",
       "        [279.      , 412.      ],\n",
       "        [279.      , 435.      ],\n",
       "        [154.      , 435.      ]],\n",
       "\n",
       "       [[288.      , 412.      ],\n",
       "        [375.      , 412.      ],\n",
       "        [375.      , 432.      ],\n",
       "        [288.      , 432.      ]],\n",
       "\n",
       "       [[383.62842 , 412.38983 ],\n",
       "        [439.88226 , 411.05048 ],\n",
       "        [440.35535 , 430.92017 ],\n",
       "        [384.1015  , 432.25952 ]],\n",
       "\n",
       "       [[450.4521  , 413.20547 ],\n",
       "        [492.8014  , 411.637   ],\n",
       "        [493.4781  , 429.90823 ],\n",
       "        [451.12878 , 431.4767  ]],\n",
       "\n",
       "       [[275.      , 442.      ],\n",
       "        [420.      , 442.      ],\n",
       "        [420.      , 465.      ],\n",
       "        [275.      , 465.      ]],\n",
       "\n",
       "       [[429.36804 , 445.1487  ],\n",
       "        [534.67    , 441.19986 ],\n",
       "        [535.4798  , 462.79446 ],\n",
       "        [430.17786 , 466.74332 ]],\n",
       "\n",
       "       [[ 58.245995, 447.1501  ],\n",
       "        [147.66292 , 443.57343 ],\n",
       "        [148.64215 , 468.05426 ],\n",
       "        [ 59.225235, 471.63092 ]],\n",
       "\n",
       "       [[160.70175 , 447.08597 ],\n",
       "        [230.85367 , 445.68295 ],\n",
       "        [231.2579  , 465.89487 ],\n",
       "        [161.10599 , 467.29788 ]],\n",
       "\n",
       "       [[241.      , 448.      ],\n",
       "        [265.      , 448.      ],\n",
       "        [265.      , 465.      ],\n",
       "        [241.      , 465.      ]],\n",
       "\n",
       "       [[490.62558 , 473.0286  ],\n",
       "        [556.82605 , 471.64938 ],\n",
       "        [557.2898  , 493.91055 ],\n",
       "        [491.08936 , 495.28976 ]],\n",
       "\n",
       "       [[403.22678 , 473.651   ],\n",
       "        [456.62296 , 475.55798 ],\n",
       "        [455.88028 , 496.3529  ],\n",
       "        [402.4841  , 494.44592 ]],\n",
       "\n",
       "       [[293.      , 476.      ],\n",
       "        [361.      , 476.      ],\n",
       "        [361.      , 495.      ],\n",
       "        [293.      , 495.      ]],\n",
       "\n",
       "       [[187.46115 , 479.91217 ],\n",
       "        [279.84332 , 476.6128  ],\n",
       "        [280.58728 , 497.44336 ],\n",
       "        [188.20511 , 500.74274 ]],\n",
       "\n",
       "       [[371.      , 477.      ],\n",
       "        [394.      , 477.      ],\n",
       "        [394.      , 494.      ],\n",
       "        [371.      , 494.      ]],\n",
       "\n",
       "       [[475.      , 481.      ],\n",
       "        [482.      , 481.      ],\n",
       "        [482.      , 493.      ],\n",
       "        [475.      , 493.      ]],\n",
       "\n",
       "       [[ 75.      , 481.      ],\n",
       "        [145.      , 481.      ],\n",
       "        [145.      , 501.      ],\n",
       "        [ 75.      , 501.      ]],\n",
       "\n",
       "       [[154.      , 482.      ],\n",
       "        [181.      , 482.      ],\n",
       "        [181.      , 500.      ],\n",
       "        [154.      , 500.      ]],\n",
       "\n",
       "       [[ 63.      , 484.      ],\n",
       "        [ 72.      , 484.      ],\n",
       "        [ 72.      , 498.      ],\n",
       "        [ 63.      , 498.      ]],\n",
       "\n",
       "       [[456.      , 493.      ],\n",
       "        [464.      , 493.      ],\n",
       "        [464.      , 500.      ],\n",
       "        [456.      , 500.      ]],\n",
       "\n",
       "       [[433.      , 507.      ],\n",
       "        [497.      , 507.      ],\n",
       "        [497.      , 530.      ],\n",
       "        [433.      , 530.      ]],\n",
       "\n",
       "       [[319.604   , 508.76575 ],\n",
       "        [378.91016 , 507.3192  ],\n",
       "        [379.38757 , 526.89294 ],\n",
       "        [320.08142 , 528.3395  ]],\n",
       "\n",
       "       [[211.49657 , 511.14288 ],\n",
       "        [308.84293 , 508.05255 ],\n",
       "        [309.48724 , 528.34955 ],\n",
       "        [212.1409  , 531.4399  ]],\n",
       "\n",
       "       [[393.      , 509.      ],\n",
       "        [422.      , 509.      ],\n",
       "        [422.      , 528.      ],\n",
       "        [393.      , 528.      ]],\n",
       "\n",
       "       [[136.25172 , 514.2793  ],\n",
       "        [190.65172 , 511.0793  ],\n",
       "        [191.85863 , 531.59656 ],\n",
       "        [137.45863 , 534.7965  ]],\n",
       "\n",
       "       [[ 60.108887, 516.2965  ],\n",
       "        [126.65234 , 512.26355 ],\n",
       "        [127.83624 , 531.79785 ],\n",
       "        [ 61.292786, 535.8308  ]]], dtype=float32)"
      ]
     },
     "execution_count": 30,
     "metadata": {},
     "output_type": "execute_result"
    }
   ],
   "source": [
    "box_group"
   ]
  },
  {
   "cell_type": "code",
   "execution_count": 31,
   "metadata": {},
   "outputs": [],
   "source": [
    "def isOnSameLine(boxOne, boxTwo):\n",
    "    boxOneStartY = boxOne[0,1]\n",
    "    boxOneEndY = boxOne[2,1]\n",
    "    boxTwoStartY = boxTwo[0,1]\n",
    "    boxTwoEndY = boxTwo[2,1]\n",
    "    if((boxTwoStartY <= boxOneEndY and boxTwoStartY >= boxOneStartY)\n",
    "    or(boxTwoEndY <= boxOneEndY and boxTwoEndY >= boxOneStartY)\n",
    "    or(boxTwoEndY >= boxOneEndY and boxTwoStartY <= boxOneStartY)):\n",
    "        return True\n",
    "    else:\n",
    "        return False\n",
    "\n",
    "def segmentLines(box_group):\n",
    "    import numpy as np\n",
    "\n",
    "    box_group = box_group[np.argsort(box_group[:, 0, 1])]\n",
    "\n",
    "    lined_box_group = np.zeros(box_group.shape)\n",
    "    sorted_box_group = np.zeros(box_group.shape)\n",
    "\n",
    "    temp = []\n",
    "    i = 0\n",
    "    lines_list = []\n",
    "\n",
    "    if len(box_group) > 1:\n",
    "        while i < len(box_group):\n",
    "            for j in range(i + 1, len(box_group)):\n",
    "                if(isOnSameLine(box_group[i],box_group[j])):\n",
    "\n",
    "                    if i not in temp:\n",
    "                        temp.append(i)\n",
    "                    if j not in temp:\n",
    "                        temp.append(j)\n",
    "\n",
    "            if len(temp) == 0:\n",
    "                temp.append(i)\n",
    "\n",
    "            lined_box_group = box_group[np.array(temp)]\n",
    "            t = np.argsort(lined_box_group[:, 0, 0])\n",
    "            lines_list.append([x+i for x in t])\n",
    "            lined_box_group = lined_box_group[t]\n",
    "            sorted_box_group[i:temp[-1]+1] = lined_box_group\n",
    "            i = temp[-1] + 1\n",
    "\n",
    "            temp = []\n",
    "    else:\n",
    "        sorted_box_group = box_group\n",
    "  \n",
    "    return sorted_box_group,lines_list"
   ]
  },
  {
   "cell_type": "code",
   "execution_count": 32,
   "metadata": {},
   "outputs": [],
   "source": [
    "s,l = segmentLines(box_group)\n",
    "# print(l)"
   ]
  },
  {
   "cell_type": "code",
   "execution_count": 33,
   "metadata": {},
   "outputs": [],
   "source": [
    "for i in range(len(l)):\n",
    "    l[i].sort()\n",
    "\n",
    "# print(l)"
   ]
  },
  {
   "cell_type": "code",
   "execution_count": 34,
   "metadata": {},
   "outputs": [
    {
     "data": {
      "image/png": "[encoded data removed]",
      "text/plain": [
       "<Figure size 432x288 with 1 Axes>"
      ]
     },
     "metadata": {
      "needs_background": "light"
     },
     "output_type": "display_data"
    }
   ],
   "source": [
    "import matplotlib.pyplot as plt\n",
    "import matplotlib.image as mpimg\n",
    "image = mpimg.imread(image_path)\n",
    "plt.imshow(image)\n",
    "plt.show()"
   ]
  },
  {
   "cell_type": "code",
   "execution_count": 35,
   "metadata": {},
   "outputs": [
    {
     "name": "stdout",
     "output_type": "stream",
     "text": [
      "have fecentli noticed that ndt mant people wiite in capitalsed leiters l seem to alwats wiite in caps d l dont kndw wht antone else dd this7 "
     ]
    }
   ],
   "source": [
    "for ran in l:\n",
    "    s_sub = s[ran[0]:ran[-1]+1]\n",
    "    #print(s_sub)\n",
    "    \n",
    "    for x in s_sub:\n",
    "        \n",
    "        for text,box in pred:\n",
    "\n",
    "            if int(x[0][0]) == int(box[0][0]) and int(x[0][1]) == int(box[0][1]):\n",
    "                print(text,end=\" \")\n",
    "                break"
   ]
  },
  {
   "cell_type": "code",
   "execution_count": null,
   "metadata": {},
   "outputs": [],
   "source": []
  }
 ],
 "metadata": {
  "kernelspec": {
   "display_name": "base",
   "language": "python",
   "name": "python3"
  },
  "language_info": {
   "codemirror_mode": {
    "name": "ipython",
    "version": 3
   },
   "file_extension": ".py",
   "mimetype": "text/x-python",
   "name": "python",
   "nbconvert_exporter": "python",
   "pygments_lexer": "ipython3",
   "version": "3.8.5"
  },
  "orig_nbformat": 4,
  "vscode": {
   "interpreter": {
    "hash": "88279d2366fe020547cde40dd65aa0e3aa662a6ec1f3ca12d88834876c85e1a6"
   }
  }
 },
 "nbformat": 4,
 "nbformat_minor": 2
}
